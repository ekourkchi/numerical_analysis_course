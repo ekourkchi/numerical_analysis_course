{
 "cells": [
  {
   "cell_type": "markdown",
   "metadata": {
    "code_folding": [
     0
    ]
   },
   "source": [
    "## This is a new added text b Ehsan\n",
    "\n",
    "This is how a text is created in Ipython"
   ]
  },
  {
   "cell_type": "code",
   "execution_count": 49,
   "metadata": {
    "code_folding": [
     0
    ],
    "collapsed": false,
    "run_control": {
     "marked": false
    }
   },
   "outputs": [
    {
     "name": "stdout",
     "output_type": "stream",
     "text": [
      "/home/ehsan/.jupyter\n",
      "['/home/ehsan/.jupyter', '/home/ehsan/anaconda/etc/jupyter', '/usr/local/etc/jupyter', '/etc/jupyter']\n"
     ]
    }
   ],
   "source": [
    "#######\n",
    "from __future__ import print_function\n",
    "from jupyter_core.paths import jupyter_config_dir, jupyter_config_path\n",
    "print(jupyter_config_dir())\n",
    "print(jupyter_config_path())"
   ]
  },
  {
   "cell_type": "code",
   "execution_count": 48,
   "metadata": {
    "code_folding": [
     0
    ],
    "collapsed": false,
    "run_control": {
     "marked": true
    },
    "scrolled": true
   },
   "outputs": [
    {
     "name": "stdout",
     "output_type": "stream",
     "text": [
      "/home/ehsan/.local/share/jupyter\n",
      "['/home/ehsan/.local/share/jupyter', '/home/ehsan/anaconda/share/jupyter', '/usr/local/share/jupyter', '/usr/share/jupyter']\n"
     ]
    }
   ],
   "source": [
    "from __future__ import print_function\n",
    "from jupyter_core.paths import jupyter_data_dir, jupyter_path\n",
    "print(jupyter_data_dir())\n",
    "print(jupyter_path())"
   ]
  },
  {
   "cell_type": "markdown",
   "metadata": {},
   "source": [
    "## How to load a Extension\n",
    "\n",
    "This is how we load a notebook extension :)"
   ]
  },
  {
   "cell_type": "code",
   "execution_count": 47,
   "metadata": {
    "collapsed": false,
    "scrolled": true
   },
   "outputs": [
    {
     "data": {
      "text/plain": [
       "True"
      ]
     },
     "execution_count": 47,
     "metadata": {},
     "output_type": "execute_result"
    }
   ],
   "source": [
    "import notebook\n",
    "notebook.nbextensions.check_nbextension('usability/codefolding', user=True)\n",
    "notebook.nbextensions.check_nbextension('usability/codefolding/main.js', user=True)"
   ]
  },
  {
   "cell_type": "code",
   "execution_count": 46,
   "metadata": {
    "code_folding": [],
    "collapsed": false,
    "run_control": {
     "marked": false
    },
    "scrolled": true
   },
   "outputs": [
    {
     "name": "stdout",
     "output_type": "stream",
     "text": [
      "downloading https://github.com/ipython-contrib/IPython-notebook-extensions/archive/3.x.zip to /tmp/tmp5keBn4/3.x.zip\n",
      "extracting /tmp/tmp5keBn4/3.x.zip to /usr/local/share/jupyter/nbextensions\n"
     ]
    }
   ],
   "source": [
    "import notebook\n",
    "import IPython.html.nbextensions as nb\n",
    "E = notebook.nbextensions.EnableNBExtensionApp()\n",
    "E.enable_nbextension('usability/codefolding/main')\n",
    "ext= 'https://github.com/ipython-contrib/IPython-notebook-extensions/archive/3.x.zip'\n",
    "nb.install_nbextension(ext)"
   ]
  },
  {
   "cell_type": "code",
   "execution_count": 45,
   "metadata": {
    "collapsed": false
   },
   "outputs": [
    {
     "data": {
      "text/plain": [
       "{u'load_extensions': {u'IPython-notebook-extensions-3.x/usability/runtools/main': True,\n",
       "  u'publishing/codefolding/main': True,\n",
       "  u'slidemode/codefolding/main': True,\n",
       "  u'styling/codefolding/main': True,\n",
       "  u'stylng/codefolding/main': True,\n",
       "  u'usability/codefolding/main': True}}"
      ]
     },
     "execution_count": 45,
     "metadata": {},
     "output_type": "execute_result"
    }
   ],
   "source": [
    "from IPython.html.services.config import ConfigManager\n",
    "ip = get_ipython()\n",
    "cm = ConfigManager(parent=ip, profile_dir=ip.profile_dir.location)\n",
    "cm.update('notebook', {\"load_extensions\": {\"IPython-notebook-extensions-3.x/usability/runtools/main\": True}})"
   ]
  },
  {
   "cell_type": "code",
   "execution_count": 78,
   "metadata": {
    "code_folding": [],
    "collapsed": false,
    "run_control": {
     "marked": true
    }
   },
   "outputs": [
    {
     "data": {
      "text/html": [
       "\n",
       "<table border=\"1\">\n",
       "  <tr>\n",
       "    <th>Extension name</th>\n",
       "  </tr>\n",
       "<tr><td>usability/codefolding/main</td>\n",
       "<tr><td>styling/codefolding/main</td>\n",
       "<tr><td>IPython-notebook-extensions-3.x/usability/runtools/main</td>\n",
       "<tr><td>stylng/codefolding/main</td>\n",
       "<tr><td>slidemode/codefolding/main</td>\n",
       "<tr><td>publishing/codefolding/main</td>\n",
       "\n",
       "</table>\n"
      ],
      "text/plain": [
       "<IPython.core.display.HTML object>"
      ]
     },
     "execution_count": 78,
     "metadata": {},
     "output_type": "execute_result"
    }
   ],
   "source": [
    "from IPython.html.services.config import ConfigManager\n",
    "from IPython.display import HTML\n",
    "ip = get_ipython()\n",
    "cm = ConfigManager(parent=ip, profile_dir=ip.profile_dir.location)\n",
    "extensions =cm.get('notebook')\n",
    "table = \"\"\n",
    "for ext in extensions['load_extensions']:\n",
    "    table += \"<tr><td>%s</td>\\n\" % (ext)\n",
    "\n",
    "top = \"\"\"\n",
    "<table border=\"1\">\n",
    "  <tr>\n",
    "    <th>Extension name</th>\n",
    "  </tr>\n",
    "\"\"\"\n",
    "bottom = \"\"\"\n",
    "</table>\n",
    "\"\"\"\n",
    "HTML(top + table + bottom)"
   ]
  },
  {
   "cell_type": "code",
   "execution_count": 79,
   "metadata": {
    "code_folding": [],
    "collapsed": false
   },
   "outputs": [
    {
     "data": {
      "application/javascript": [
       "IPython.Cell.options_default.cm_config.lineNumbers = true;"
      ],
      "text/plain": [
       "<IPython.core.display.Javascript object>"
      ]
     },
     "metadata": {},
     "output_type": "display_data"
    }
   ],
   "source": [
    "%%javascript\n",
    "IPython.Cell.options_default.cm_config.lineNumbers = true;"
   ]
  },
  {
   "cell_type": "code",
   "execution_count": 76,
   "metadata": {
    "code_folding": [
     0
    ],
    "collapsed": false,
    "run_control": {
     "marked": false
    }
   },
   "outputs": [
    {
     "data": {
      "text/html": [
       "<script>jQuery(function() {if (jQuery(\"body.notebook_app\").length == 0) { jQuery(\".input_area\").toggle(); jQuery(\".prompt\").toggle();}});</script>"
      ]
     },
     "metadata": {},
     "output_type": "display_data"
    },
    {
     "data": {
      "text/html": [
       "<button onclick=\"jQuery('.input_area').toggle(); jQuery('.prompt').toggle();\">Toggle code</button>"
      ]
     },
     "metadata": {},
     "output_type": "display_data"
    },
    {
     "name": "stdout",
     "output_type": "stream",
     "text": [
      "Es =  28.6358323176\n",
      "dEs =  0.000207002882179\n"
     ]
    },
    {
     "data": {
      "image/png": "[encoded data removed]",
      "text/plain": [
       "<matplotlib.figure.Figure at 0x7fa23c969a50>"
      ]
     },
     "metadata": {},
     "output_type": "display_data"
    }
   ],
   "source": [
    "#*****************************************************************\n",
    "#\n",
    "#  NAME:\t\tEhsan Kourkchi\n",
    "#\n",
    "#  HOMEWORK:\t\t6\n",
    "#\n",
    "#  CLASS:\t\tScientific Computation (IfA)\n",
    "#\n",
    "#  INSTRUCTOR:\t\tNorbert Schorghofer\n",
    "#\n",
    "#  DATE:\t\tOctober 18, 2015           \n",
    "#\n",
    "#  FILE:\t\tehsan.hw06.py\n",
    "#\n",
    "#  DESCRIPTION:\tIt uses the output of 'ehsan.hw06.py' to make histograms and other analysis.\n",
    "#  \n",
    "#  How to run: $ python ehsan.hist.py\n",
    "#\n",
    "#****************************************************************\n",
    "%matplotlib inline\n",
    "\n",
    "from IPython.display import display\n",
    "from IPython.display import HTML\n",
    "import IPython.core.display as di # Example: di.display_html('<h3>%s:</h3>' % str, raw=True)\n",
    "import numpy as np\n",
    "from math import *\n",
    "import matplotlib.pyplot as plt\n",
    "from astropy.table import Table, Column \n",
    "import random\n",
    "import sys\n",
    "import os\n",
    "\n",
    "\n",
    "# This line will hide code by default when the notebook is exported as HTML\n",
    "di.display_html('<script>jQuery(function() {if (jQuery(\"body.notebook_app\").length == 0) { jQuery(\".input_area\").toggle(); jQuery(\".prompt\").toggle();}});</script>', raw=True)\n",
    "\n",
    "# This line will add a button to toggle visibility of code blocks, for use with the HTML export version\n",
    "di.display_html('''<button onclick=\"jQuery('.input_area').toggle(); jQuery('.prompt').toggle();\">Toggle code</button>''', raw=True)\n",
    "\n",
    "\n",
    "\n",
    "\n",
    "if __name__ == '__main__':\n",
    "  \n",
    "  \n",
    "  inFile = 'energies.v2.txt'\n",
    "  table = np.genfromtxt(inFile , delimiter=',', filling_values=0, names=True, dtype=None)\n",
    "  \n",
    "  E1   = table['E1']\n",
    "  E2  = table['E2']\n",
    "  \n",
    "  E1=E1[0:50000]\n",
    "  E2=E2[0:50000]\n",
    "  \n",
    "  fig = plt.figure(figsize=(6.7, 6), dpi=100)\n",
    "  ax = fig.add_axes([0.13, 0.1, 0.85,  0.85])\n",
    "  \n",
    "  \n",
    "  Linear_Linear = False\n",
    "  Log_Linear = False\n",
    "  Log_Log = False\n",
    "  Linear_Log = True\n",
    "  \n",
    "  \n",
    "  if Linear_Linear:\n",
    "    delt = 0.25\n",
    "    bins = np.arange(0,20,delt)\n",
    "    bins_center = np.arange(delt,20-0.5*delt,delt)\n",
    "    n_E1 =  np.histogram(E1/1.E4, bins=bins)\n",
    "    n_E2 =  np.histogram(E2/1.E4, bins=bins)\n",
    "    n_E1 = n_E1[0]/1.E4\n",
    "    n_E2 = n_E2[0]/1.E4\n",
    "    ax.plot(bins_center, n_E1, label=r'$E_{2000}$')\n",
    "    ax.plot(bins_center, n_E2, label=r'$E_{1000}$')\n",
    "\n",
    "    ax.set_ylabel('Number ['+r'$\\times 10^4$'+']', fontsize=14)\n",
    "    ax.set_xlabel('Energy ['+r'$\\times 10^4$'+']', fontsize=14)\n",
    "    #ax.plot(bins_center, np.log10(n_E2), '.-',label=r'$E_{1000}$')\n",
    "    #ax.plot(bins_center, np.log10(n_E1), '.-',label=r'$E_{1000}$')\n",
    "  \n",
    "\n",
    "  \n",
    "  elif Log_Linear:\n",
    "    delt = 0.25\n",
    "    C = 1 + delt\n",
    "    bins = [1]\n",
    "    bins_center = [np.sqrt(C)]\n",
    "    t = 1\n",
    "    while t < 200.:\n",
    "      bins.append(t*C)\n",
    "      bins_center.append(t*C)\n",
    "      t *= C\n",
    "    bins_center = bins_center[0:len(bins_center)-1]\n",
    "    \n",
    "    \n",
    "    n_E1 =  np.histogram(E1/1.E3, bins=bins)\n",
    "    n_E2 =  np.histogram(E2/1.E3, bins=bins)\n",
    "    n_E1 = n_E1[0]/1.E3\n",
    "    n_E2 = n_E2[0]/1.E3\n",
    "    ax.plot(bins_center, n_E1, '.-', label=r'$E_{2000}$')\n",
    "    ax.plot(bins_center, n_E2, '.-',label=r'$E_{1000}$')\n",
    "\n",
    "    ax.set_ylabel('Number ['+r'$\\times 10^3$'+']', fontsize=14)\n",
    "    ax.set_xlabel('Energy ['+r'$\\times 10^3$'+']', fontsize=14)\n",
    "    plt.xscale('log')\n",
    "\n",
    "\n",
    "  elif Log_Log:\n",
    "    delt = 0.1\n",
    "    C = 1 + delt\n",
    "    bins = [1]\n",
    "    bins_center = [np.sqrt(C)]\n",
    "    t = 1\n",
    "    while t < 200.:\n",
    "      bins.append(t*C)\n",
    "      bins_center.append(t*C)\n",
    "      t *= C\n",
    "    bins_center = bins_center[0:len(bins_center)-1]\n",
    "    \n",
    "    \n",
    "    n_E1 =  np.histogram(E1/1.E3, bins=bins)\n",
    "    n_E2 =  np.histogram(E2/1.E3, bins=bins)\n",
    "    n_E1 = n_E1[0]\n",
    "    n_E2 = n_E2[0]\n",
    "    ax.plot(bins_center, n_E1, '.-', label=r'$E_{2000}$')\n",
    "    ax.plot(bins_center, n_E2, '.-',label=r'$E_{1000}$')\n",
    "\n",
    "    ax.set_ylabel('Number', fontsize=14)\n",
    "    ax.set_xlabel('Energy ['+r'$\\times 10^3$'+']', fontsize=14)\n",
    "    plt.xscale('log')\n",
    "    plt.yscale('log')\n",
    "\n",
    "\n",
    "    \n",
    "\n",
    "  elif Linear_Log:\n",
    "    delt = 0.1\n",
    "    C = 1 + delt\n",
    "    bins = [1]\n",
    "    bins_center = [np.sqrt(C)]\n",
    "    t = 1\n",
    "    while t < 200.:\n",
    "      bins.append(t*C)\n",
    "      bins_center.append(t*C)\n",
    "      t *= C\n",
    "    bins_center = bins_center[0:len(bins_center)-1]\n",
    "    \n",
    "    \n",
    "    n_E1 =  np.histogram(E1/1.E3, bins=bins)\n",
    "    n_E2 =  np.histogram(E2/1.E3, bins=bins)\n",
    "    n_E1 = n_E1[0]\n",
    "    n_E2 = n_E2[0]\n",
    "\n",
    "    ax.set_ylabel('Number', fontsize=14)\n",
    "    ax.set_xlabel('Energy ['+r'$\\times 10^3$'+']', fontsize=14)\n",
    "    \n",
    "    #ax.plot(bins_center, n_E2, '.-',label=r'$E_{1000}$')\n",
    "    ax.plot(bins_center, n_E1, '.-',label=r'$E_{1000}$')\n",
    "    plt.yscale('log')\n",
    "\n",
    "   \n",
    "    x = bins_center[len(bins_center)-20:len(bins_center)-3]\n",
    "    y = n_E1[len(bins_center)-20:len(bins_center)-3]\n",
    "    logy = np.log10(y)\n",
    "    ax.plot(x, y,  '.', color='red')\n",
    "    z, v = np.polyfit(x, logy, 1, full = False , cov=True)\n",
    "    p = np.poly1d(z)\n",
    "    x = np.arange(0,200,5)\n",
    "    ax.plot(x, 10**(p(x)), '--', color ='black')\n",
    "    Es = -1.*log10(np.exp(1))/z[0]\n",
    "    dz =  v[0][0] \n",
    "    dEs = dz*log10(np.exp(1))/(z[0]**2)\n",
    "    print ('Es = ', Es)\n",
    "    print ('dEs = ', dEs  )\n",
    "   \n",
    "\n",
    "    #x = bins_center[len(bins_center)-20:len(bins_center)-3]\n",
    "    #y = n_E2[len(bins_center)-20:len(bins_center)-3]\n",
    "    #logy = np.log10(y)\n",
    "    #ax.plot(x, y,  '.', color='red')\n",
    "    #z, v = np.polyfit(x, logy, 1, full = False , cov=True)\n",
    "    #p = np.poly1d(z)\n",
    "    #x = np.arange(0,200,5)\n",
    "    #ax.plot(x, 10**(p(x)), '--', color ='black')\n",
    "    #Es = -1.*log10(np.exp(1))/z[0]\n",
    "    #dz =  v[0][0] \n",
    "    #dEs = dz*log10(np.exp(1))/(z[0]**2)\n",
    "    #print 'Es = ', Es\n",
    "    #print 'dEs = ', dEs\n",
    "    \n",
    "\n",
    "   \n",
    "  \n",
    "  if Linear_Linear or Log_Linear or Log_Log or Linear_Log:\n",
    "    ax.legend( loc=1 )\n",
    "    #plt.show()\n",
    "  \n",
    "\n",
    "  "
   ]
  },
  {
   "cell_type": "code",
   "execution_count": 80,
   "metadata": {
    "collapsed": false,
    "run_control": {
     "marked": true
    }
   },
   "outputs": [
    {
     "ename": "SyntaxError",
     "evalue": "invalid syntax (<ipython-input-80-260f1badb0b8>, line 73)",
     "output_type": "error",
     "traceback": [
      "\u001b[1;36m  File \u001b[1;32m\"<ipython-input-80-260f1badb0b8>\"\u001b[1;36m, line \u001b[1;32m73\u001b[0m\n\u001b[1;33m    print '\\b'*4+'. '+str(int(floor(pp)))+'%',\u001b[0m\n\u001b[1;37m             ^\u001b[0m\n\u001b[1;31mSyntaxError\u001b[0m\u001b[1;31m:\u001b[0m invalid syntax\n"
     ]
    }
   ],
   "source": [
    "\n",
    "#*****************************************************************\n",
    "#\n",
    "#  NAME:\t\tEhsan Kourkchi\n",
    "#\n",
    "#  HOMEWORK:\t\t6\n",
    "#\n",
    "#  CLASS:\t\tScientific Computation (IfA)\n",
    "#\n",
    "#  INSTRUCTOR:\t\tNorbert Schorghofer\n",
    "#\n",
    "#  DATE:\t\tOctober 18, 2015           \n",
    "#\n",
    "#  FILE:\t\tehsan.hw06.py\n",
    "#\n",
    "#  DESCRIPTION:\tThis code generates the energy of a kicked rotator using different initial conditions\n",
    "#   and stores it in a file for further analysis. \n",
    "#\n",
    "#  How to run: $ python ehsan.hw06.py\n",
    "#\n",
    "#****************************************************************\n",
    "\n",
    "import numpy as np\n",
    "from math import *\n",
    "import matplotlib.pyplot as plt\n",
    "from astropy.table import Table, Column \n",
    "import random\n",
    "import sys\n",
    "import os\n",
    "\n",
    "if __name__ == '__main__':\n",
    "  \n",
    "  \n",
    "  # To make sure that each time we use the same random chain\n",
    "  random.seed(10)\n",
    "  \n",
    "  limit = 200\n",
    "  T = 1\n",
    "  w = np.zeros(limit, dtype='Float64')\n",
    "  a = np.zeros(limit, dtype='Float64')  # float64\n",
    "  n = np.arange(limit, dtype='i')  # (0, 1, 2, ... limit-1)  int32\n",
    "  \n",
    "\n",
    "  K = 5\n",
    "  \n",
    "  \n",
    "  \n",
    "  n_ensemble = 10000\n",
    "  E1 = np.zeros(n_ensemble, dtype='Float64')\n",
    "  E2  = np.zeros(n_ensemble, dtype='Float64')\n",
    "  \n",
    "  steps = 2\n",
    "  d = steps\n",
    "  \n",
    "  for iteration in range(n_ensemble):\n",
    "    \n",
    "    a[0] = random.uniform(0, 1)       # velocity\n",
    "    w[0] = random.uniform(0, 2*pi)    # location\n",
    "    \n",
    "    for i in n[0:limit-1]:\n",
    "      a[i+1] = a[i] + T * w[i]\n",
    "      w[i+1] = w[i] + K * sin(a[i+1])\n",
    "    \n",
    "    E1[iteration] = w[limit-1]**2/2\n",
    "    E2[iteration] = w[limit/2-1]**2/2\n",
    "    \n",
    "    \n",
    "    ##########################################\n",
    "    # Progress point bar\n",
    "    pp = (100.*(iteration+1)/n_ensemble)\n",
    "    if pp > d or pp == 100:\n",
    "        if pp<10:\n",
    "          print '\\b'*4+'. '+str(int(floor(pp)))+'%',\n",
    "        else:\n",
    "\t  print '\\b'*5+'. '+str(int(floor(pp)))+'%',\n",
    "        sys.stdout.flush()\n",
    "        d += steps\n",
    "    ##########################################\n",
    "  \n",
    "  \n",
    "  print \"\\nn_ensemble\", n_ensemble\n",
    "  \n",
    "  \n",
    "\n",
    "  \n",
    "  myTable = Table()\n",
    "  myTable.add_column(Column(data=E1, name='E1'))\n",
    "  myTable.add_column(Column(data=E2,  name='E2'))  \n",
    "  myTable.write('test.v2.txt', format='ascii.fixed_width',delimiter=',', bookend=False)\n",
    "  \n",
    "\n",
    "    \n",
    "  \n",
    "  "
   ]
  }
 ],
 "metadata": {
  "celltoolbar": "Edit Metadata",
  "kernelspec": {
   "display_name": "Python 2",
   "language": "python",
   "name": "python2"
  },
  "language_info": {
   "codemirror_mode": {
    "name": "ipython",
    "version": 2
   },
   "file_extension": ".py",
   "mimetype": "text/x-python",
   "name": "python",
   "nbconvert_exporter": "python",
   "pygments_lexer": "ipython2",
   "version": "2.7.10"
  }
 },
 "nbformat": 4,
 "nbformat_minor": 0
}
